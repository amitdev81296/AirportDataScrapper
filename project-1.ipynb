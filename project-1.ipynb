{
 "cells": [
  {
   "cell_type": "markdown",
   "metadata": {
    "id": "Fb72spjcvBAt"
   },
   "source": [
    "# DSCI 511: Data Acquisition and Pre-Processing <br> Term Project Phase 1: Scoping a data set"
   ]
  },
  {
   "cell_type": "markdown",
   "metadata": {
    "id": "QZL8AsIdvBAx"
   },
   "source": [
    "## The big picture\n",
    "Welcome to your term project! This is the first portion of a two-part, open-ended team assignment that will culminate in a presentation during the last week of class or the regularly scheduled final exam period. Overall, this term project is intended to provide some open-ended experience with building a complex dataset and making it available. Specifically, all projects for this course will entail the following:\n",
    "\n",
    "- The construction, acquistion, integration, enrichment, and distribution of a project-motivated and computationally significant dataset.\n",
    "\n",
    "The first report on your team's project will constitue a discussion of what the dataset is that you want to build/access/create, why you believe it will be possilbe to conduct, and how long you believe it will take to build, in addition to discussion of the sorts of tasks that will be involved. Additionally, this inital project planning report should speculate and provide examples potential dataset uses, whether academic or commercial.\n",
    "\n",
    "__Note__: All reports should inclue a high level abstract/discussion in a tone that is set for a completely diverse audience.\n",
    "\n",
    "Later on, a final report will recap progress at the task you're group has come up with, specifically revisiting what you _though_ the dataset development would take,  as compared to the actual work involved and obstacles encountered.\n",
    "\n",
    "__Important__: because your project reports will have discussion intermingled with data and code as output, I not only request the  submission of your work in Jupyter Notebooks format, but additionly recommend conducting your work as a group collaboratively in Jupyter notebooks."
   ]
  },
  {
   "cell_type": "markdown",
   "metadata": {
    "id": "YE9rJdcrvBAx"
   },
   "source": [
    "## This is only a guideline\n",
    "\n",
    "While I will provide some idea of structure and expectation for your project it is important to note that this is an intentionally open-ended project. Hence, no specific rubric is provided. The courses of different projects will require overcoming different obstacles, and success in a data science project is ultimately a (partial) function of a team's abaility to adapt to project needs. However, all work should be well documented, articulately presented, and justified. If at any point it is unclear what to do or how to represent your project's work, please do not hesitate to ask your instructor for direction."
   ]
  },
  {
   "cell_type": "markdown",
   "metadata": {
    "id": "QRP-hmLIvBAy"
   },
   "source": [
    "## Your team\n",
    "\n",
    "The first thing you'll have to do in this phase is organize into a project team. Data science is often conducted in teams, with different team members covering the diversity of knowledge and skills relevant to the different areas that a project must support to succeed. Even though our course is only focused on early-phase data science tasks (data set development), be sure to consider the strengths of your teamates and interests for gaining experience in dataset construction&mdash;if you want extensive experience with web scraping, pitch a project about this with a few other interested points. It will help to discuss interests. Be sure to write out the names of the project team's members in your first report and answer the two questions:\n",
    "\n",
    "1. What areas/skills/domains does the team member presently identify with?\n",
    "2. Into which areas/skills/domains would the team member like to grow?"
   ]
  },
  {
   "cell_type": "markdown",
   "metadata": {
    "id": "-t2m28mRvBAy"
   },
   "source": [
    "## Your topic\n",
    "\n",
    "The course of your project will be determined by two things:\n",
    "\n",
    "1. the motivations present in your project's team and\n",
    "2. the data your project is able to pull together.\n",
    "\n",
    "Thus, choosing your topic is closely tied to both your team and the data you are able to identify. To start, discuss the domain interests present on your project team. Te get you on your way, let's start with two questions:\n",
    "\n",
    "1. Is there an aspect of the IoT, natural world, society, literature, or art, etc. that you would like to investigate computationally through what might be considered 'data'? \n",
    "\n",
    "2. What sort of data-medium are you interested to work with?&mdash;For example: transaction records, stock prices, memes and online conversations, open-domain poems, congressional records, News Articles, songs and popularity, Associated Press Images, transit records, call logs, CCTV footage, etcetera.\n",
    "\n",
    "\n",
    "\n",
    "*   Aiport Traffic datasets \n",
    "*   FAA and Google Maps APIs\n",
    "\n",
    "\n",
    "\n",
    "Whatever the direction you set for your project please make sure you document it well, keeping track of how its objectives and strategies change as you encounter available materials and other existing work."
   ]
  },
  {
   "cell_type": "markdown",
   "metadata": {
    "id": "DLkJvqD7vBAz"
   },
   "source": [
    "## What you're responsible for in this phase\n",
    "Ok, so here's the goal again for phase 1. You must:\n",
    "\n",
    "- scope a computationally tangible artifact&mdash;heretofore known as the data set&mdash;whose study is expected to satisfy goals pertaining to the project's topic of interest.\n",
    "\n",
    "This phase of the project will set expectations and a work plan for your project's open-ended work. Not only should you scope the collection of your dataset, but determine what mode's of distribution will be possible once its produces. Will you have to distribute access code, or will you be able to directly provide links to stored data.\n",
    "\n",
    "Ultimately, the completion of your poject will produce raw materials for other folks (possibly you) interested in trying out analysis applications in future coursework (DSCI 521). So, as you identify a potential data set be sure to be realistic about what is possible to collect and how you can preprocess it for use! Ultimately, please make sure that some portion of your target data are guarenteed to be collectable. However, it's okay to try for some data that are a reach, just document any un- or partially successful efforts in your report and discuss what obstacles prevented those data from being collected.\n",
    "\n",
    "### Things I'll be looking for in a Phase 1 report\n",
    "\n",
    "- a background report on the team's members, their self-identified skills, and individual contributions.\n",
    "\n",
    "\n",
    "- a discussion of what you would like to your data to do/hope it is good for\n",
    "- an exhibition of a sample of your data&mdash;show me it exists and what it looks like, even if very raw\n",
    "\n",
    "    We plan to use [openflights](https://openflights.org/) for the bulk of the airports we will be cataloging. The raw format of their datasets can be seen [directly on github](https://raw.githubusercontent.com/jpatokal/openflights/master/data/airports.dat). We will likely suppliment it with FAA data if we can and other collections that are more up to date such as [airport codes from datahub.io](https://datahub.io/core/airport-codes)\n",
    "\n",
    "- a discussion of who might be interested in your data set\n",
    "    \n",
    "- a discussion of how your data is limited and could be improved\n",
    "- a discussion of how your data were created, e.g., people texting, The Earth's molten core spinning, etc.\n",
    "\n",
    "\n",
    "- a discussion of what sort of access rights presently exist on your data and how/if you will make them available\n",
    "\n",
    "As a heads up, by the end of the term and in your final report I'll be looking for things like\n",
    "- a data dictionary or README.md that describes what is present in the data set and where or how to access\n",
    "- code that documents the construction of your data&mdash;I should be able to re-construct/re-access it!\n",
    "- code that allows me or someone else to interact with your data set\n",
    "- tables and figures indicating the size and variety present in your data\n",
    "\n",
    "_Note_: These are not exhaustive lists of topics or tasks worth covering in your project. In general, if there's something interesting about your dataset, whether relating to its construction, existence, representative population or _anything else_, then be sure to document it!"
   ]
  },
  {
   "cell_type": "markdown",
   "metadata": {
    "id": "ZCVAAopGuY_n"
   },
   "source": [
    "**Background**\n",
    "\n",
    "**Fernando Ramirez** - Backgroud in Biomedical Engineering (tissue and biomaterials). My focus is on handeling large amounts of files, open/closing and scraping data from the internet for implementations of Ensembl (mapping database for centralized genomic information). While I have limited experience in scraping data from the internet, my hope is to obtain the skillset to successfully learn and implement the BeautifulSoup python module. I plan to contribute to researching obtainable and preferably public datasets. "
   ]
  },
  {
   "cell_type": "markdown",
   "metadata": {
    "id": "ECl1ybCUx6SK"
   },
   "source": [
    "__Alex Van Kooy__ - Background in Physics and experience with software engineering. My main area of contribution will be ensuring the dataset matches the intended purpose as well as solving any of our blocking issues. My experience with python, data wrangling, and general software engineering will be leveraged to ensure that the data we collect is clear, clean and useable."
   ]
  },
  {
   "cell_type": "markdown",
   "metadata": {
    "id": "NCDOHCOHJH6E"
   },
   "source": [
    "__Amit Nijsure__ -  Background in Information Systems, Web and Software Engineering. My focus for this project will be to explore the FAA and Google Maps API to verify the location information related to latitude and longitude. I have used Google Maps API with JavaScript before but not with Python, so, it will be interesting to learn how these APIs can be integrated with Python. I have an experience with Enterprise Java for creating REST Services, JavaScript for front-end development and Django and Flask and I am hoping to up my skills as a Python Developer for data science and analytics by means of the coursework."
   ]
  },
  {
   "cell_type": "markdown",
   "metadata": {
    "id": "Vu0Qs0vIR6gh"
   },
   "source": [
    "**Abdulaziz Alquzi** - Background in Electroncis and Communication Engineering. My focus for this project will be obtaining an experience on how to handle dataset files with large sizes and webscraping. Also, i'm looking forward to obtaining an experience in exploring and verifying locations. Even though, I have a limited knowledge scraping data and exploring and verifying locations I will work really hard to polish my skills by the end of this project. "
   ]
  },
  {
   "cell_type": "markdown",
   "metadata": {
    "id": "KJ3Xw-YvxY4_"
   },
   "source": [
    "**Discussion of Purpose of dataset** \n"
   ]
  },
  {
   "cell_type": "markdown",
   "metadata": {
    "id": "4KYJID7sy_ET"
   },
   "source": [
    "The Skeptical movement is focused on advocating for science education and critical thinking in all aspects of life. Often mystical/supernatural explanations are given for phenomena that are wholly explainable by ordinary events. One such subject making a resurgence in the current events is UFOs. Obviously their name states that we explicitly don't know what the object is, however people are quick to jump to aliens visiting earth or other equally absurd notions. Skeptic groups are often critical of such claims and despite the claimant's lack of supporting evidence they often lay the burden of proof at the skeptic's feet. While we can never prove a negative and we won't be able to counter every reported sighting, we might be able to plausibly explain many reports if we can show the correlation between sighting location and air traffic. \n",
    "\n",
    "Beyond countering wild and unhelpful claims of UFOs there is the possibility that the objects being seen are, while not extraterrestrial important. The US government admitted to actively encouraging UFO conspiracies during the 60s-70s since the assertions raised by these groups are usually discounted and so any photographs of military aircraft wouldn't be as likely to be picked up by the Soviets. So in addition to providing a useful metric to debunk UFO theories, it may also be leveraged to identify new secret aircraft built by either the US or another nation."
   ]
  },
  {
   "cell_type": "markdown",
   "metadata": {
    "id": "sHy32NmtxkdI"
   },
   "source": [
    "**Discussion of exhibition of dataset**\n",
    "\n",
    "We plan to use [openflights](https://openflights.org/) for the bulk of the airports we will be cataloging. The raw format of their datasets can be seen [directly on github](https://raw.githubusercontent.com/jpatokal/openflights/master/data/airports.dat). We will likely supplement it with FAA data if we can and other collections that are more up to date such as [airport codes from datahub.io](https://datahub.io/core/airport-codes)"
   ]
  },
  {
   "cell_type": "markdown",
   "metadata": {
    "id": "g0zfOjofxkmY"
   },
   "source": [
    "**Discussion of who is interested**\n",
    "\n",
    "The target audience of understanding this dataset would be cilivians and their respected communities. This data-set will provide more information about possible new forms of technologies. Current event examples include drone pattern tracking of cilivians (of which cilivans should be informed about). Furthermore, the US government and other regulatory agencies can be informed(based on data collection set), as well as other regulatory agencies interested in mis-matching of UFO sightigns to openflight airport tracking.  \n",
    "\n"
   ]
  },
  {
   "cell_type": "markdown",
   "metadata": {
    "id": "AL03FITRxkw7"
   },
   "source": [
    "**How is this dataset limited**\n",
    "\n",
    "The intial scope of our dataset will be to read and comprehend skeptical movements. A challenge with our initial dataset is that it is limited to the United States. If possible, an improvement to our dataset would be to gather flight international flight and UFO sightings. \n"
   ]
  },
  {
   "cell_type": "markdown",
   "metadata": {
    "id": "E1hqcStVxk4C"
   },
   "source": [
    "**How is the Data being generated**\n",
    "\n",
    "Data collection is being gathereed by airports and condensed(possibly pre-filtered) data from datahub.io accounts. The main source of data will be both user generated (individuals saying they have witness a UFO sighting) and regulatory airflight pattern history (FAA). More research and investigation is needed to define exactly which data is obtainable publicly or privatley, respectively.  "
   ]
  },
  {
   "cell_type": "markdown",
   "metadata": {
    "id": "rnFwSJ7cyLCO"
   },
   "source": [
    "**What are the concerns to access rights?**\n",
    "\n",
    "The main challenges with our dataset will be applying for access to the FAA API.With this in mind, navigating the FAA site is not intuitive, thus more research is needed. If possible, a lat-long grid for airports could be obtainable using Google Maps API (access rights - to be determined). Another facet of tracking flight and UFO patterns is the 'cleaning' of the data. It is imperative that only inaccurate data is removed from the proposed dataset. Tracking the history of airport, including, how logn were airports established, accuracy of flight patterns, and data interpretation (pre-processing) is critical. \n",
    "\n",
    "\n",
    "\n"
   ]
  },
  {
   "cell_type": "code",
   "execution_count": null,
   "metadata": {
    "id": "bTQUSXqSyHaA"
   },
   "outputs": [],
   "source": []
  }
 ],
 "metadata": {
  "colab": {
   "collapsed_sections": [
    "QZL8AsIdvBAx",
    "YE9rJdcrvBAx",
    "QRP-hmLIvBAy",
    "-t2m28mRvBAy"
   ],
   "name": "project-1.ipynb",
   "provenance": [],
   "toc_visible": true
  },
  "kernelspec": {
   "display_name": "Python 3",
   "language": "python",
   "name": "python3"
  },
  "language_info": {
   "codemirror_mode": {
    "name": "ipython",
    "version": 3
   },
   "file_extension": ".py",
   "mimetype": "text/x-python",
   "name": "python",
   "nbconvert_exporter": "python",
   "pygments_lexer": "ipython3",
   "version": "3.8.3"
  }
 },
 "nbformat": 4,
 "nbformat_minor": 1
}
